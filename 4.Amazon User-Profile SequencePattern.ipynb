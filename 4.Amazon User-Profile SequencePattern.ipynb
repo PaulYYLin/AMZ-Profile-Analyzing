{
 "cells": [
  {
   "cell_type": "markdown",
   "metadata": {},
   "source": [
    "### Amazon User-Profile SequencePattern\n",
    "\n",
    "This Part is from WTG case to reach the TA by seeing what is their purchasing sequence pattern. We use two part to find out important (high confidence/ high connected) product to Target Product.\n",
    "\n",
    "#### Phase 1 \n",
    "- (Optional) Doing the Prefixsapn Module Analysis (only sequence frequent)\n",
    "- We use `SPADE module to find out the important product`.\n",
    "- We also Draw the network chart by Gephi(https://gephi.org/) to see the pic.\n",
    "#### Phase 2\n",
    "- We add time factor to see `the time these important product direct to Target Product`.\n"
   ]
  },
  {
   "cell_type": "code",
   "execution_count": 204,
   "metadata": {},
   "outputs": [],
   "source": [
    "import pandas as pd\n",
    "from prefixspan import PrefixSpan\n",
    "import numpy as np\n",
    "import csv\n",
    "from pycspade.helpers import spade, print_result\n",
    "import datetime\n",
    "import matplotlib.pyplot as plt\n"
   ]
  },
  {
   "cell_type": "markdown",
   "metadata": {},
   "source": [
    "### Data Preparing"
   ]
  },
  {
   "cell_type": "code",
   "execution_count": 3,
   "metadata": {},
   "outputs": [],
   "source": [
    "db = pd.read_csv('M_WTG_AMZ_Profile_All_Data.csv')\n",
    "db = db.query(\"user_name !='Amazon Customer'\")\n",
    "# db = db.drop(columns='Unnamed: 0')\n"
   ]
  },
  {
   "cell_type": "markdown",
   "metadata": {},
   "source": [
    "##### Optional\n",
    "1. Uncomment first Cell to do intersection of users data between two or more product\n",
    "2. Uncomment second Cell to filt the important product "
   ]
  },
  {
   "cell_type": "code",
   "execution_count": 4,
   "metadata": {},
   "outputs": [],
   "source": [
    "db2 = pd.read_csv('WTG_AMZ_Profile_All_Data.csv')\n",
    "db = db.append(db2)\n"
   ]
  },
  {
   "cell_type": "code",
   "execution_count": null,
   "metadata": {},
   "outputs": [],
   "source": [
    "# important_bdlist = pd.read_csv('output.csv')\n",
    "# important_bdlist = important_bdlist['breakdown_Category']\n",
    "# db = db[db['Breakdown_category'].isin(important_bdlist)]\n"
   ]
  },
  {
   "cell_type": "markdown",
   "metadata": {},
   "source": [
    "### (Optional) PREFIXSPAN ANALYZE"
   ]
  },
  {
   "cell_type": "markdown",
   "metadata": {},
   "source": [
    "##### Data Preprocessing\n",
    "1. With out time Threshold\n",
    "2. With Threshold"
   ]
  },
  {
   "cell_type": "code",
   "execution_count": null,
   "metadata": {},
   "outputs": [],
   "source": [
    "# 1)\n",
    "db_Ca = db.query(f\"Category == 'ComputersAccessories' \")\n",
    "db_Ca = db_Ca[['user_name', 'Breakdown_category']]\n",
    "name_list = list(db_Ca['user_name'])\n",
    "db_Ca = db_Ca.groupby('user_name')\n",
    "pro_db = []\n",
    "for name in name_list:\n",
    "    try:\n",
    "        a = db_Ca.get_group(name)['Breakdown_category']\n",
    "        pro_db.append(a)\n",
    "    except:\n",
    "        pass\n",
    "print('Check{}'.format(pro_db[0]))\n"
   ]
  },
  {
   "cell_type": "code",
   "execution_count": null,
   "metadata": {},
   "outputs": [],
   "source": [
    "# 2)\n",
    "def preProcess(db, categoryfilt, dayfilt):\n",
    "    db_Ca = db.query(f\"Category == '{categoryfilt}' \")\n",
    "    db_Ca = db_Ca[['user_name', 'Breakdown_category', 'review_date_place']]\n",
    "    db_Ca['review_date_place'] = pd.to_datetime(db_Ca['review_date_place'])\n",
    "    db_Ca.info()\n",
    "    name_list = list(db_Ca['user_name'])\n",
    "    db_Ca = db_Ca.groupby('user_name')\n",
    "    db_Ca7 = []\n",
    "    for name in name_list:\n",
    "        a = db_Ca.get_group(name).reset_index()\n",
    "        for x in range(len(a['review_date_place'])):\n",
    "            b = [a.iloc[x]['Breakdown_category']]\n",
    "            for s in range(len(a['review_date_place'])):\n",
    "                if x != s:\n",
    "                    day_gap = (\n",
    "                        a['review_date_place'][s] - a['review_date_place'][x]\n",
    "                    ).days\n",
    "                    if 0 <= abs(day_gap) <= dayfilt:\n",
    "                        b.append(a.iloc[s]['Breakdown_category'])\n",
    "            if len(b) != 1:\n",
    "                db_Ca7.append(b)\n",
    "    return db_Ca7\n",
    "\n",
    "\n",
    "# Making Timethershold (Optional)\n",
    "pro_db = preProcess(db=db, categoryfilt='ComputersAccessories', dayfilt=7)\n"
   ]
  },
  {
   "cell_type": "code",
   "execution_count": null,
   "metadata": {},
   "outputs": [],
   "source": [
    "def sequencePattern(pro_db, minsup, pattern):\n",
    "    ps = PrefixSpan(pro_db)\n",
    "    if pattern == 'frequent':\n",
    "        result = [\n",
    "            [freq, set(order)]\n",
    "            for freq, order in ps.frequent(minsup)\n",
    "            if len(set(order)) >= 3\n",
    "        ]\n",
    "    elif pattern == 'topk':\n",
    "        result = [\n",
    "            (freq, set(order)) for freq, order in ps.topk(50) if len(set(order)) >= 3\n",
    "        ]\n",
    "    return result\n",
    "\n",
    "\n",
    "seqP = sequencePattern(pro_db=pro_db, minsup=50, pattern='frequent')\n",
    "seqP = sorted(seqP, key=lambda tup: tup[0], reverse=True)\n"
   ]
  },
  {
   "cell_type": "code",
   "execution_count": null,
   "metadata": {},
   "outputs": [],
   "source": [
    "uiq = []\n",
    "for i in seqP:\n",
    "    if i[1] not in uiq:\n",
    "        uiq.append(i[1])\n",
    "        print(i)\n"
   ]
  },
  {
   "cell_type": "code",
   "execution_count": null,
   "metadata": {},
   "outputs": [],
   "source": [
    "with open('PatternSequence.csv', 'w') as f:\n",
    "\n",
    "    # using csv.writer method from CSV package\n",
    "    write = csv.writer(f)\n",
    "\n",
    "    write.writerows(seqP)\n"
   ]
  },
  {
   "cell_type": "markdown",
   "metadata": {},
   "source": [
    "### SPADE ANALYZE"
   ]
  },
  {
   "cell_type": "code",
   "execution_count": null,
   "metadata": {},
   "outputs": [],
   "source": [
    "db_Ca = db.query(f\"Category == 'ComputersAccessories' \")\n",
    "db_Ca['review_date_place'] = pd.to_datetime(db_Ca['review_date_place'])\n",
    "db_Ca = (\n",
    "    db_Ca[['user_name', 'review_date_place', 'Breakdown_category']]\n",
    "    .sort_values(by=['review_date_place'])\n",
    "    .reset_index()\n",
    ")\n",
    "name_list = list(db_Ca['user_name'].unique())\n",
    "db_Ca = (\n",
    "    db_Ca.groupby('user_name')\n",
    "    .filter(lambda g: any(g.Breakdown_category == 'USBLamps'))\n",
    "    .groupby('user_name')\n",
    ")  # including USBLamps\n",
    "db_Ca = db_Ca.filter(lambda g: any(g.Breakdown_category == 'Monitors')).groupby(\n",
    "    'user_name'\n",
    ")\n",
    "pro_db = []\n",
    "uid = 0\n",
    "for name in name_list:\n",
    "    uid += 1\n",
    "    try:\n",
    "        a = db_Ca.get_group(name)[['Breakdown_category', 'review_date_place']]\n",
    "        pro_db.append(a)\n",
    "    except:\n",
    "        pass\n"
   ]
  },
  {
   "cell_type": "code",
   "execution_count": null,
   "metadata": {},
   "outputs": [],
   "source": [
    "bd_idx = {\n",
    "    '{}'.format(db['Breakdown_category'].unique()[i]): i\n",
    "    for i in range(len(db['Breakdown_category'].unique()))\n",
    "}\n"
   ]
  },
  {
   "cell_type": "code",
   "execution_count": null,
   "metadata": {},
   "outputs": [],
   "source": [
    "for id in range(len(pro_db)):\n",
    "    pro_db[id]['Breakdown_category'] = [\n",
    "        bd_idx.get(i) for i in pro_db[id]['Breakdown_category']\n",
    "    ]\n",
    "print(f'Check:{pro_db[0]}')\n"
   ]
  },
  {
   "cell_type": "code",
   "execution_count": null,
   "metadata": {},
   "outputs": [],
   "source": [
    "uid = 0\n",
    "spade_list = []\n",
    "for a in pro_db:\n",
    "    a['review_date_place'] - pd.to_timedelta(30, unit='d')  #Setting Time Slices Long\n",
    "    x = a.set_index('review_date_place').groupby(pd.Grouper(freq=\"1M\"))[\n",
    "        'Breakdown_category'\n",
    "    ]\n",
    "    for key in x.groups.keys():\n",
    "        try:\n",
    "            month = key.dayofyear // 30\n",
    "            tmp = [f'{uid}', f'{key.year}{month}', list((x.get_group(key)))]\n",
    "            spade_list.append(tmp)\n",
    "        except:\n",
    "            pass\n",
    "    uid += 1\n"
   ]
  },
  {
   "cell_type": "code",
   "execution_count": null,
   "metadata": {},
   "outputs": [],
   "source": [
    "def get_key(val):\n",
    "    for key, value in bd_idx.items():\n",
    "        if val == value:\n",
    "            return key\n"
   ]
  },
  {
   "cell_type": "code",
   "execution_count": null,
   "metadata": {},
   "outputs": [],
   "source": [
    "# Depend on Data amount Filt by suitable support\n",
    "result = spade(data=spade_list, support=0.1, parse=True)\n"
   ]
  },
  {
   "cell_type": "code",
   "execution_count": null,
   "metadata": {},
   "outputs": [],
   "source": [
    "sp_frame = pd.DataFrame(\n",
    "    {'Occurs': [], 'Accum': [], 'Support': [], 'Confid': [], 'Lift': [], 'Sequence': []}\n",
    ")\n",
    "\n",
    "\n",
    "def show_frame(result, result_Frame):\n",
    "    nseqs = result['nsequences']\n",
    "    for mined_object in result['mined_objects']:\n",
    "        conf = 'N/A'\n",
    "        lift = 'N/A'\n",
    "        if mined_object.confidence:\n",
    "            conf = '{:0.7f}'.format(mined_object.confidence)\n",
    "        if mined_object.lift:\n",
    "            lift = '{:0.7f}'.format(mined_object.lift)\n",
    "        result_Frame = result_Frame.append(\n",
    "            {\n",
    "                'Occurs': mined_object.noccurs,\n",
    "                'Accum': mined_object.accum_occurs,\n",
    "                'Support': mined_object.noccurs / nseqs,\n",
    "                'Confid': conf,\n",
    "                'Lift': lift,\n",
    "                'Sequence': ' -> '.join(\n",
    "                    list(\n",
    "                        map(\n",
    "                            str,\n",
    "                            [\n",
    "                                get_key(int(str(i).replace('(', '').replace(')', '')))\n",
    "                                for i in mined_object.items\n",
    "                            ],\n",
    "                        )\n",
    "                    )\n",
    "                ),\n",
    "            },\n",
    "            ignore_index=True,\n",
    "        )\n",
    "\n",
    "    return result_Frame\n"
   ]
  },
  {
   "cell_type": "code",
   "execution_count": null,
   "metadata": {},
   "outputs": [],
   "source": [
    "sp_frame = show_frame(result, sp_frame)\n",
    "sp_frame = (\n",
    "    sp_frame.query(\"Sequence.str.contains('->')\")\n",
    "    .sort_values('Support', ascending=False)\n",
    "    .drop_duplicates()\n",
    ")\n",
    "sp_frame\n"
   ]
  },
  {
   "cell_type": "code",
   "execution_count": null,
   "metadata": {},
   "outputs": [],
   "source": [
    "# sp_frame.to_csv('MWinner_sequencePattern_all.csv')\n"
   ]
  },
  {
   "cell_type": "markdown",
   "metadata": {},
   "source": [
    "#### Take important product out to do sequence time counting"
   ]
  },
  {
   "cell_type": "code",
   "execution_count": 186,
   "metadata": {},
   "outputs": [],
   "source": [
    "important_list = [\n",
    "    'USBLamps',\n",
    "    'Monitors',\n",
    "    'USBCables',\n",
    "    'Keyboards',\n",
    "    'InternalSolidStateDrives',\n",
    "    'Mice',\n",
    "    'MonitorStands',\n",
    "    'MonitorArms',\n",
    "    'ComputerSpeakers',\n",
    "    'Stands',\n",
    "]\n",
    "\n",
    "db_important = db[db['Breakdown_category'].isin(important_list)].reset_index(drop=True)\n",
    "\n",
    "target_product = db_important[\n",
    "    ['user_name', 'review_date_place', 'Breakdown_category']\n",
    "].query('Breakdown_category == \"USBLamps\"')\n",
    "t_name_list = target_product['user_name'].unique()\n",
    "\n",
    "timegap_frame = pd.DataFrame(columns=important_list)\n"
   ]
  },
  {
   "cell_type": "code",
   "execution_count": 247,
   "metadata": {},
   "outputs": [],
   "source": [
    "db_i = db_important[['user_name', 'review_date_place', 'Breakdown_category']].groupby(\n",
    "    'user_name'\n",
    ")\n",
    "tmp_dic = {key: [] for key in important_list}\n",
    "for name in t_name_list:\n",
    "    x = db_i.get_group(name)\n",
    "    ta = x.query(\n",
    "        'Breakdown_category == \"USBLamps\"'\n",
    "    ).drop_duplicates()  # User Target Time\n",
    "    for date in ta['review_date_place']:  # Each Time in Target Time\n",
    "        date = pd.to_datetime(date)\n",
    "        for p in range(len(x)):  # Read Each Time\n",
    "            p_time = pd.to_datetime(x.iloc[p]['review_date_place'])\n",
    "            if (\n",
    "                p_time < date\n",
    "                and x.iloc[p]['Breakdown_category'] != 'USBLamps'\n",
    "                and (date - p_time) <= datetime.timedelta(60)\n",
    "            ):\n",
    "                tmp_dic[x.iloc[p]['Breakdown_category']].append(date - p_time)\n",
    "\n",
    "timegap_frame = pd.DataFrame.from_dict(tmp_dic, orient='index').fillna('NaN').T\n",
    "\n",
    "timegap_frame = timegap_frame.drop(columns=['USBLamps'])\n"
   ]
  },
  {
   "cell_type": "code",
   "execution_count": 254,
   "metadata": {},
   "outputs": [
    {
     "data": {
      "text/html": [
       "<div>\n",
       "<style scoped>\n",
       "    .dataframe tbody tr th:only-of-type {\n",
       "        vertical-align: middle;\n",
       "    }\n",
       "\n",
       "    .dataframe tbody tr th {\n",
       "        vertical-align: top;\n",
       "    }\n",
       "\n",
       "    .dataframe thead th {\n",
       "        text-align: right;\n",
       "    }\n",
       "</style>\n",
       "<table border=\"1\" class=\"dataframe\">\n",
       "  <thead>\n",
       "    <tr style=\"text-align: right;\">\n",
       "      <th></th>\n",
       "      <th>count</th>\n",
       "      <th>mean</th>\n",
       "      <th>std</th>\n",
       "      <th>min</th>\n",
       "      <th>25%</th>\n",
       "      <th>50%</th>\n",
       "      <th>75%</th>\n",
       "      <th>max</th>\n",
       "    </tr>\n",
       "  </thead>\n",
       "  <tbody>\n",
       "    <tr>\n",
       "      <th>Monitors</th>\n",
       "      <td>90</td>\n",
       "      <td>31</td>\n",
       "      <td>17</td>\n",
       "      <td>1</td>\n",
       "      <td>13</td>\n",
       "      <td>33</td>\n",
       "      <td>46</td>\n",
       "      <td>59</td>\n",
       "    </tr>\n",
       "    <tr>\n",
       "      <th>USBCables</th>\n",
       "      <td>38</td>\n",
       "      <td>25</td>\n",
       "      <td>14</td>\n",
       "      <td>3</td>\n",
       "      <td>14</td>\n",
       "      <td>22</td>\n",
       "      <td>31</td>\n",
       "      <td>55</td>\n",
       "    </tr>\n",
       "    <tr>\n",
       "      <th>Keyboards</th>\n",
       "      <td>22</td>\n",
       "      <td>25</td>\n",
       "      <td>20</td>\n",
       "      <td>1</td>\n",
       "      <td>8</td>\n",
       "      <td>19</td>\n",
       "      <td>45</td>\n",
       "      <td>59</td>\n",
       "    </tr>\n",
       "    <tr>\n",
       "      <th>InternalSolidStateDrives</th>\n",
       "      <td>12</td>\n",
       "      <td>30</td>\n",
       "      <td>17</td>\n",
       "      <td>1</td>\n",
       "      <td>22</td>\n",
       "      <td>28</td>\n",
       "      <td>37</td>\n",
       "      <td>58</td>\n",
       "    </tr>\n",
       "    <tr>\n",
       "      <th>Mice</th>\n",
       "      <td>17</td>\n",
       "      <td>26</td>\n",
       "      <td>17</td>\n",
       "      <td>3</td>\n",
       "      <td>10</td>\n",
       "      <td>29</td>\n",
       "      <td>40</td>\n",
       "      <td>60</td>\n",
       "    </tr>\n",
       "    <tr>\n",
       "      <th>MonitorStands</th>\n",
       "      <td>21</td>\n",
       "      <td>34</td>\n",
       "      <td>14</td>\n",
       "      <td>2</td>\n",
       "      <td>26</td>\n",
       "      <td>40</td>\n",
       "      <td>43</td>\n",
       "      <td>52</td>\n",
       "    </tr>\n",
       "    <tr>\n",
       "      <th>MonitorArms</th>\n",
       "      <td>40</td>\n",
       "      <td>26</td>\n",
       "      <td>19</td>\n",
       "      <td>1</td>\n",
       "      <td>5</td>\n",
       "      <td>28</td>\n",
       "      <td>43</td>\n",
       "      <td>57</td>\n",
       "    </tr>\n",
       "    <tr>\n",
       "      <th>ComputerSpeakers</th>\n",
       "      <td>20</td>\n",
       "      <td>30</td>\n",
       "      <td>16</td>\n",
       "      <td>10</td>\n",
       "      <td>19</td>\n",
       "      <td>25</td>\n",
       "      <td>48</td>\n",
       "      <td>60</td>\n",
       "    </tr>\n",
       "    <tr>\n",
       "      <th>Stands</th>\n",
       "      <td>62</td>\n",
       "      <td>26</td>\n",
       "      <td>14</td>\n",
       "      <td>2</td>\n",
       "      <td>14</td>\n",
       "      <td>28</td>\n",
       "      <td>34</td>\n",
       "      <td>58</td>\n",
       "    </tr>\n",
       "  </tbody>\n",
       "</table>\n",
       "</div>"
      ],
      "text/plain": [
       "                         count mean std min 25% 50% 75% max\n",
       "Monitors                    90   31  17   1  13  33  46  59\n",
       "USBCables                   38   25  14   3  14  22  31  55\n",
       "Keyboards                   22   25  20   1   8  19  45  59\n",
       "InternalSolidStateDrives    12   30  17   1  22  28  37  58\n",
       "Mice                        17   26  17   3  10  29  40  60\n",
       "MonitorStands               21   34  14   2  26  40  43  52\n",
       "MonitorArms                 40   26  19   1   5  28  43  57\n",
       "ComputerSpeakers            20   30  16  10  19  25  48  60\n",
       "Stands                      62   26  14   2  14  28  34  58"
      ]
     },
     "execution_count": 254,
     "metadata": {},
     "output_type": "execute_result"
    }
   ],
   "source": [
    "timegap_frame_info = timegap_frame.describe().astype(str('timedelta64[D]'))\n",
    "def dayToint(day):\n",
    "    return(str(day).split(' days')[0])\n",
    "for i in timegap_frame_info:\n",
    "    timegap_frame_info[i] = list(map(dayToint,timegap_frame_info[i]))\n",
    "timegap_frame_info.T\n"
   ]
  },
  {
   "cell_type": "code",
   "execution_count": 255,
   "metadata": {},
   "outputs": [],
   "source": [
    "timegap_frame_info.T.to_csv('KeyProduct_timeGap.csv')\n"
   ]
  }
 ],
 "metadata": {
  "interpreter": {
   "hash": "aee8b7b246df8f9039afb4144a1f6fd8d2ca17a180786b69acc140d282b71a49"
  },
  "kernelspec": {
   "display_name": "Python 3.9.6 64-bit",
   "language": "python",
   "name": "python3"
  },
  "language_info": {
   "codemirror_mode": {
    "name": "ipython",
    "version": 3
   },
   "file_extension": ".py",
   "mimetype": "text/x-python",
   "name": "python",
   "nbconvert_exporter": "python",
   "pygments_lexer": "ipython3",
   "version": "3.9.6"
  },
  "orig_nbformat": 4
 },
 "nbformat": 4,
 "nbformat_minor": 2
}
