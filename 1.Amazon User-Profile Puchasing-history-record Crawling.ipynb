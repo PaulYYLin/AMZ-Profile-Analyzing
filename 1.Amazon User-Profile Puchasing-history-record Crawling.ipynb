{
 "cells": [
  {
   "cell_type": "markdown",
   "metadata": {},
   "source": [
    "## Amazon User-profile Puchasing-history-record Crawling\n",
    "Step1 Crawling of AMZ profile project.\n",
    "\n",
    "Assign a product and crawl the user's ,who leave their review below, history purchasing record on their profile page on Amazon.\n",
    "### Before running the crawling code you should:\n",
    "- Download the browser driver (Chrome) from [selenium web page]('https://chromedriver.chromium.org/downloads') and put it in project folder.\n",
    "- Make sure you have already pip install the selenium, tqdm, pandas packages.\n",
    "- Make sure the `internet stable`.\n",
    "### When running the crawling code you should:\n",
    "- Follow the step of the instuction in each cell.\n",
    "- See the selenium browser automatically crawl the data and `do not close the windows of the browser`.\n",
    "- If any error happend just restart from that page with `STEP 2`.\n",
    "### After running the crawling code you should:\n",
    "- Check the if data amount make sence with the reviewers amount.\n",
    "- Make sure the `File name compare to the model name`.\n",
    "- Restart the all cell when crawling the new model."
   ]
  },
  {
   "cell_type": "markdown",
   "metadata": {},
   "source": [
    "### Table of Content\n",
    "- ['Packages'](#packages) : Import packages.\n",
    "\n",
    "Define Function\n",
    "- ['Open Browser'](#open-browser) : Definie the seting of browser and Open browser.\n",
    "- ['Get info'](#getinfo) : Scrape the data elements on single page.\n",
    "- ['Initialize Format'](#initialize-format): Build empty format for saving data.\n",
    "- ['Crawl Model Review User'](#crawlmodelreviewuser) : Crawl the review page data.\n",
    "- ['Scroll Down Page'](#scrolldownpage) : For loading dynamic data in user's profile page.\n",
    "- ['Get user info'](#getuserinfo) : Crawl user purchasing history record data.\n",
    "\n",
    "Execution\n",
    "- ['Execution'](#execution) : Execute the Code and Output Data to csv file.\n"
   ]
  },
  {
   "cell_type": "markdown",
   "metadata": {},
   "source": [
    "\n",
    "### Packages"
   ]
  },
  {
   "cell_type": "code",
   "execution_count": null,
   "metadata": {},
   "outputs": [],
   "source": [
    "from selenium import webdriver\n",
    "import pandas as pd\n",
    "import time\n"
   ]
  },
  {
   "cell_type": "markdown",
   "metadata": {},
   "source": [
    "### Open Browser\n",
    "Open Selenium Browser and Setting"
   ]
  },
  {
   "cell_type": "code",
   "execution_count": null,
   "metadata": {},
   "outputs": [],
   "source": [
    "'''\n",
    "Arg:\n",
    "    ModelAsin : Assignment model Asin on Amazon (str)\n",
    "    \n",
    "Output:\n",
    "    Open Browser on All review page of Model on Amazon\n",
    "'''\n",
    "\n",
    "\n",
    "def open_browser(ModelAsin):\n",
    "\n",
    "    # Setting of Brwoser\n",
    "    user_agent = \"Mozilla/5.0 (Windows NT 10.0; Win64; x64) AppleWebKit/537.36 (KHTML, like Gecko) Chrome/96.0.4664.45 Safari/537.36\"\n",
    "    opt = webdriver.ChromeOptions()\n",
    "    opt.add_argument('--user-agent=%s' % user_agent)\n",
    "    # Cancel Picture Loading\n",
    "    # opt.add_argument('blink-settings=imagesEnabled=False')\n",
    "    # opt.add_argument('--disable-dev-shm-usage')\n",
    "    # opt.add_argument('--disable-gpu')\n",
    "    # opt.add_argument('--disable-extensions')\n",
    "    opt.add_argument('lang=en')\n",
    "\n",
    "    # Opening Browser with Setting and Assign URL\n",
    "    global driver\n",
    "    driver = webdriver.Chrome('./chromedriver', chrome_options=opt)\n",
    "    driver.implicitly_wait(10)\n",
    "    res = driver.get(\n",
    "        f\"https://www.amazon.com/product-reviews/{ModelAsin}/ref=cm_cr_dp_d_show_all_btm?ie=UTF8&reviewerType=all_reviews&language=en_US\")\n",
    "    return res\n"
   ]
  },
  {
   "cell_type": "markdown",
   "metadata": {},
   "source": [
    "### Get_info\n",
    "Scrape the data elements on single page."
   ]
  },
  {
   "cell_type": "code",
   "execution_count": null,
   "metadata": {},
   "outputs": [],
   "source": [
    "'''\n",
    "Arg:\n",
    "    \n",
    "\n",
    "Output:\n",
    "    tmp_format : Data on single webpage in Dataframe type (pd.DataFrame)\n",
    "'''\n",
    "\n",
    "\n",
    "def get_info():\n",
    "    # Scrape the data elements on Webpage\n",
    "    user_name = driver.find_elements_by_class_name('a-profile-name')\n",
    "    product_name = driver.find_elements_by_xpath(\n",
    "        '//*[@id=\"profile-at-card-container\"]/div/div[2]/div[2]/div')\n",
    "    profile_discriptor = driver.find_elements_by_class_name(\n",
    "        'a-profile-descriptor')\n",
    "    ratings = driver.find_elements_by_xpath(\n",
    "        '//*[@id=\"profile-at-card-container\"]/div/div[2]/div[2]/a/div[1]/div/i/span')\n",
    "    comment = driver.find_elements_by_class_name(\n",
    "        'a-spacing-small.a-spacing-top-mini.a-color-base.profile-at-review-text.profile-at-review-text-desktop')\n",
    "    asin = driver.find_elements_by_class_name(\n",
    "        'a-link-normal.profile-at-product-box-link.a-text-normal')\n",
    "    tmp_format = pd.DataFrame({'user_name': [], 'product_name': [], 'review_date_place': [\n",
    "    ], 'review_rating': [], 'review_content': [], 'Asin': []})\n",
    "\n",
    "    # Avoiding Product no longer available to raise error and still Scrape other data\n",
    "    k = 0\n",
    "    for i in range(len(comment)):\n",
    "        if product_name[i].text != 'Product no longer available':\n",
    "            try:\n",
    "                _asin = str(asin[k].get_attribute(\n",
    "                    'href').split('/dp/')[1].split('?ref')[0])\n",
    "            except:\n",
    "                _asin = str(asin[k].get_attribute('href').split(\n",
    "                    'trackAsin=')[1].split('&ref')[0])\n",
    "            tmp_format = tmp_format.append({'user_name': user_name[i].text, 'product_name': product_name[i].text, 'review_date_place': profile_discriptor[i].text, 'review_rating': ratings[i].get_attribute('innerHTML'), 'review_content': comment[i].text,\n",
    "                                            'Asin': _asin}, ignore_index=True)\n",
    "            k += 1\n",
    "        else:\n",
    "            tmp_format = tmp_format.append({'user_name': user_name[i].text, 'product_name': product_name[i].text, 'review_date_place': profile_discriptor[i].text, 'review_rating': ratings[i].get_attribute('innerHTML'), 'review_content': comment[i].text,\n",
    "                                            'Asin': \"None\"}, ignore_index=True)\n",
    "\n",
    "    return tmp_format\n"
   ]
  },
  {
   "cell_type": "markdown",
   "metadata": {},
   "source": [
    "### Initialize Format\n",
    "#### Make Sure Changing the `Required Model Name`"
   ]
  },
  {
   "cell_type": "code",
   "execution_count": null,
   "metadata": {},
   "outputs": [],
   "source": [
    "required_product = ['SAMSUNG 49-inch Odyssey G9 Gaming Monitor']\n",
    "total_format = pd.DataFrame({'user_name': [], 'product_name': [], 'review_date_place': [\n",
    "], 'review_rating': [], 'review_content': [], 'Asin': []})\n",
    "\n"
   ]
  },
  {
   "cell_type": "markdown",
   "metadata": {},
   "source": [
    "### Crawl_model_review_user\n",
    "Crawl the review page data."
   ]
  },
  {
   "cell_type": "code",
   "execution_count": null,
   "metadata": {},
   "outputs": [],
   "source": [
    "'''\n",
    "Arg:\n",
    "    \n",
    "\n",
    "Output:\n",
    "    review_format : Data on review webpages in Dataframe type (pd.DataFrame)\n",
    "'''\n",
    "\n",
    "def Crawl_model_review_user():  # 抓取model的評論資料\n",
    "    review_format = pd.DataFrame({'user_name': [], 'product_name': [], 'review_date_place': [\n",
    "], 'review_rating': [], 'review_content': [], 'Asin': []})\n",
    "    for p in range(50):  # numbers of review pages\n",
    "        reviewer = driver.find_elements_by_class_name('a-profile-name')\n",
    "        review_content = driver.find_elements_by_class_name(\n",
    "            'a-size-base.review-text.review-text-content')\n",
    "        review_date = driver.find_elements_by_class_name(\n",
    "            'a-size-base.a-color-secondary.review-date')\n",
    "        review_star = driver.find_elements_by_css_selector(\n",
    "            \"i[data-hook='review-star-rating']\")\n",
    "        for n in range(2, len(review_content)):\n",
    "            review_format = review_format.append({'user_name': reviewer[n].text, 'product_name': required_product[0], 'review_date_place': review_date[n].text, 'review_rating': review_star[n].get_attribute(\n",
    "                'innerHTML'), 'review_content': review_content[n].text}, ignore_index=True)  # add data in format\n",
    "\n",
    "        return review_format\n"
   ]
  },
  {
   "cell_type": "markdown",
   "metadata": {},
   "source": [
    "### Scroll_down_page\n",
    "For loading dynamic data in user's profile page."
   ]
  },
  {
   "cell_type": "code",
   "execution_count": null,
   "metadata": {},
   "outputs": [],
   "source": [
    "def __scroll_down_page():\n",
    "    current_scroll_position, new_height = 0, 1\n",
    "    while current_scroll_position <= new_height:\n",
    "        current_scroll_position += 15\n",
    "        driver.execute_script(\n",
    "            \"window.scrollTo(0, {});\".format(current_scroll_position))\n",
    "        new_height = driver.execute_script(\"return document.body.scrollHeight\")\n"
   ]
  },
  {
   "cell_type": "markdown",
   "metadata": {},
   "source": [
    "### Get_user_info\n",
    "Crawl user purchasing history record data."
   ]
  },
  {
   "cell_type": "code",
   "execution_count": null,
   "metadata": {},
   "outputs": [],
   "source": [
    "'''\n",
    "Arg:\n",
    "    \n",
    "\n",
    "Output:\n",
    "    user_format : Data on user profile webpages in Dataframe type (pd.DataFrame)\n",
    "'''\n",
    "def get_user_info(): \n",
    "    \n",
    "    user_format = pd.DataFrame({'user_name': [], 'product_name': [], 'review_date_place': [\n",
    "    ], 'review_rating': [], 'review_content': [], 'Asin': []})  # build empty format\n",
    "    user_name_list = driver.find_elements_by_class_name('a-profile-name')\n",
    "    for i in range(2, len(user_name_list)):\n",
    "        user_name_list = driver.find_elements_by_class_name('a-profile-name')\n",
    "        driver.execute_script(\"arguments[0].click();\", user_name_list[i])\n",
    "        #user_name_list[i].click() # Click the user transit to profile page\n",
    "        __scroll_down_page() # Scroll down the page to load dynamic data until it ends\n",
    "        try:\n",
    "            user_format = user_format.append(get_info())\n",
    "            driver.back()\n",
    "        except:\n",
    "            driver.back()\n",
    "        continue\n",
    "        \n",
    "\n",
    "    return user_format\n"
   ]
  },
  {
   "cell_type": "markdown",
   "metadata": {},
   "source": [
    "### Execution"
   ]
  },
  {
   "cell_type": "code",
   "execution_count": null,
   "metadata": {},
   "outputs": [],
   "source": [
    "# STEP1 Input Model Asin and Open Browser\n",
    "open_browser('B088HH6LW5')  "
   ]
  },
  {
   "cell_type": "code",
   "execution_count": null,
   "metadata": {},
   "outputs": [],
   "source": [
    "# STEP2 Execute Collecting Data\n",
    "for i in range(50):  # Change the number by review amount / 12\n",
    "    total_format.append(Crawl_model_review_user())\n",
    "    total_format = total_format.append(get_user_info())\n",
    "    print('Total_format checking...', len(total_format), end='\\r')\n",
    "    driver.find_element_by_xpath(\n",
    "        '//*[@id=\"cm_cr-pagination_bar\"]/ul/li[2]/a'\n",
    "    ).click()  # next review page\n",
    "    time.sleep(3)\n"
   ]
  },
  {
   "cell_type": "code",
   "execution_count": null,
   "metadata": {},
   "outputs": [],
   "source": [
    "#STEP3 Checking Data Amount and Content\n",
    "print(total_format.describe) \n"
   ]
  },
  {
   "cell_type": "code",
   "execution_count": null,
   "metadata": {},
   "outputs": [],
   "source": [
    "#STEP4 Output the csv File with Model name\n",
    "total_format.to_csv('AMZ_PH_STEP1' +\n",
    "                    required_product[0]+'.csv', encoding=\"utf_8_sig\")\n"
   ]
  }
 ],
 "metadata": {
  "interpreter": {
   "hash": "aee8b7b246df8f9039afb4144a1f6fd8d2ca17a180786b69acc140d282b71a49"
  },
  "kernelspec": {
   "display_name": "Python 3.9.6 64-bit",
   "language": "python",
   "name": "python3"
  },
  "language_info": {
   "codemirror_mode": {
    "name": "ipython",
    "version": 3
   },
   "file_extension": ".py",
   "mimetype": "text/x-python",
   "name": "python",
   "nbconvert_exporter": "python",
   "pygments_lexer": "ipython3",
   "version": "3.9.6"
  },
  "orig_nbformat": 4
 },
 "nbformat": 4,
 "nbformat_minor": 2
}
