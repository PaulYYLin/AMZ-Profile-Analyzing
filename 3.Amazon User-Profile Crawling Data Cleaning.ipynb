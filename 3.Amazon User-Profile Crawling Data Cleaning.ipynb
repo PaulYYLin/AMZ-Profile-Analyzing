{
 "cells": [
  {
   "cell_type": "markdown",
   "metadata": {},
   "source": [
    "## Amazon User-Profile Crawling Data Cleaning\n",
    "Step3 Cleaning Data\n",
    " \n",
    "Merge Both Setp1 and Step2 Data and `Cleaning for further Step Analyzing`, including Data type transforming, Punctuation cleaning, Time thershold etc. \n",
    "\n",
    "#### Preparing Data\n",
    "- Step 1 Folder: Including Data Crawling From Step 1\n",
    "- Step 2 Folder: Including Data Crawling From Step 2 \n",
    "\n"
   ]
  },
  {
   "cell_type": "code",
   "execution_count": null,
   "metadata": {},
   "outputs": [],
   "source": [
    "import pandas as pd\n",
    "from glob import glob\n",
    "import re\n"
   ]
  },
  {
   "cell_type": "code",
   "execution_count": null,
   "metadata": {},
   "outputs": [],
   "source": [
    "step1 = glob('Step1/*.csv')\n",
    "df1 = pd.DataFrame()\n",
    "for file in step1:\n",
    "    tmp = pd.read_csv(file)\n",
    "    tmp['Belong_Model'] = file.replace('Step1/AMZ_PH_STEP1_', '')\n",
    "    df1 = df1.append(tmp, ignore_index=True)\n",
    "df1 = df1.drop(columns=['Unnamed: 0'])\n",
    "for i in range(len(df1)):\n",
    "    df1['Asin'][i] = re.sub(r'[^a-zA-Z0-9]', \"\", df1['Asin'][i])\n",
    "df1.index = range(len(df1.index))\n",
    "# df1.to_csv('Step1_df1.csv')\n",
    "print(df1.info(), df1.head())\n"
   ]
  },
  {
   "cell_type": "code",
   "execution_count": null,
   "metadata": {},
   "outputs": [],
   "source": [
    "step2 = glob('Step2/*.csv')\n",
    "df2 = pd.concat((pd.read_csv(file) for file in step2), ignore_index=True)\n",
    "\n",
    "df2 = df2.drop(columns=['Unnamed: 0'])\n",
    "for i in range(len(df2)):\n",
    "    for cl in ['Category', 'Sub_category', 'Brand']:\n",
    "        df2[cl][i] = (re.sub(r'[^a-zA-Z0-9]', \"\", df2[cl][i])).replace(' ', '')\n",
    "\n",
    "    for cla in ['Asin']:\n",
    "        df2[cla][i] = re.sub(r'[^a-zA-Z0-9]', \"\", df2[cla][i])\n",
    "print(df2.info(), df2.head())\n",
    "# df2.to_csv('Step2_df2.csv')\n"
   ]
  },
  {
   "cell_type": "code",
   "execution_count": null,
   "metadata": {},
   "outputs": [],
   "source": [
    "format = pd.merge(df1, df2, on='Asin')\n",
    "df3 = format.drop_duplicates(subset=['review_content'])\n",
    "df3.index = range(len(df3.index))\n"
   ]
  },
  {
   "cell_type": "code",
   "execution_count": null,
   "metadata": {},
   "outputs": [],
   "source": [
    "# 調整時間格式\n",
    "print(\n",
    "    '時間處理前:',\n",
    "    type(df3['review_date_place'][0]),\n",
    "    df3['review_date_place'][0],\n",
    ")\n",
    "\n",
    "for t in range(len(df3['review_date_place'])):\n",
    "    time_raw = str(df3['review_date_place'][t]).split('·')[1]\n",
    "    # 若是中文時間格式則取消註解\n",
    "\n",
    "    time_raw = time_raw.replace('年', '-')\n",
    "    time_raw = time_raw.replace('月', '-')\n",
    "    time_raw = time_raw.replace('日', '')\n",
    "    df3['review_date_place'][t] = time_raw\n",
    "\n",
    "df3['review_date_place'] = pd.to_datetime(df3['review_date_place'])\n",
    "\n",
    "print(\n",
    "    '時間處理後:',\n",
    "    type(df3['review_date_place'][0]),\n",
    "    df3['review_date_place'][0],\n",
    ")\n"
   ]
  },
  {
   "cell_type": "code",
   "execution_count": null,
   "metadata": {},
   "outputs": [],
   "source": [
    "start_time = '2018-01-01'\n",
    "end_time = '2022-12-31'\n",
    "\n",
    "df3 = df3.loc[\n",
    "    (df3['review_date_place'] >= start_time)  # 時間起始點\n",
    "    & (df3['review_date_place'] < end_time)\n",
    "]  # 時間終點\n",
    "print(df3.info(), df3.head())\n"
   ]
  },
  {
   "cell_type": "code",
   "execution_count": null,
   "metadata": {},
   "outputs": [],
   "source": [
    "def replace_del(text, del_list):\n",
    "    for i in del_list:\n",
    "        text = text.replace(i, \"\")\n",
    "    return text\n",
    "\n",
    "\n",
    "df3['Price'] = [replace_del(p, ['\\'', '[', ']']) for p in df3['Price']]\n",
    "df3['Brand'] = [replace_del(p, ['\\'', '[', ']']) for p in df3['Brand']]\n",
    "df3['review_rating'] = [\n",
    "    replace_del(star, [' out of five stars']) for star in df3['review_rating']\n",
    "]\n",
    "\n",
    "df3.head()\n",
    "df3.to_csv('M_WTG_AMZ_Profile_All_Data.csv', index=False)\n"
   ]
  }
 ],
 "metadata": {
  "interpreter": {
   "hash": "aee8b7b246df8f9039afb4144a1f6fd8d2ca17a180786b69acc140d282b71a49"
  },
  "kernelspec": {
   "display_name": "Python 3.9.6 64-bit",
   "language": "python",
   "name": "python3"
  },
  "language_info": {
   "codemirror_mode": {
    "name": "ipython",
    "version": 3
   },
   "file_extension": ".py",
   "mimetype": "text/x-python",
   "name": "python",
   "nbconvert_exporter": "python",
   "pygments_lexer": "ipython3",
   "version": "3.9.6"
  },
  "orig_nbformat": 4
 },
 "nbformat": 4,
 "nbformat_minor": 2
}
